{
 "cells": [
  {
   "cell_type": "code",
   "execution_count": 1,
   "id": "north-brief",
   "metadata": {},
   "outputs": [
    {
     "name": "stdout",
     "output_type": "stream",
     "text": [
      "enter the length3\n",
      "1\n",
      "\n",
      "\n",
      "[['1']]\n"
     ]
    }
   ],
   "source": [
    "#Solution for question1 - remove empty List from List.\n",
    "num = int(input(\"enter the length\"))\n",
    "input_list = []\n",
    "result_list = []\n",
    "for i in range(0,num):\n",
    "    str1 = input()\n",
    "    input_list.append(str1.split())\n",
    "for i in range(len(input_list)):\n",
    "    if input_list[i] != []:\n",
    "        result_list.append(input_list[i])\n",
    "print(result_list)"
   ]
  },
  {
   "cell_type": "code",
   "execution_count": 2,
   "id": "fiscal-daughter",
   "metadata": {},
   "outputs": [
    {
     "name": "stdout",
     "output_type": "stream",
     "text": [
      " enter a sentencepython is a good programming language is and easy\n",
      "python is a good programming language is and easy\n",
      "python is a good programming language and easy\n"
     ]
    }
   ],
   "source": [
    "#Solution for question2 - remove all duplicates words from a given sentence\n",
    "sentence = input(\" enter a sentence\") \n",
    "print(sentence)\n",
    "wordlist = []\n",
    "result = \"\"\n",
    "for word in sentence.split():\n",
    "    if word in wordlist:\n",
    "        pass\n",
    "    else:\n",
    "        wordlist.append(word)\n",
    "result = \" \".join(wordlist)\n",
    "print(result)"
   ]
  },
  {
   "cell_type": "code",
   "execution_count": 4,
   "id": "welcome-popularity",
   "metadata": {},
   "outputs": [
    {
     "name": "stdout",
     "output_type": "stream",
     "text": [
      " enter a stringpythonprogramming\n",
      "enter the charactero\n",
      "2\n",
      "4\n",
      "8\n"
     ]
    }
   ],
   "source": [
    "#Solution for question3 - find all occurrences of a character in the given string\n",
    "str1 = input(\" enter a string\") \n",
    "char1 = input(\"enter the character\")\n",
    "count = str1.count(char1)\n",
    "print(count)\n",
    "lt = 0\n",
    "for i in range(0,count):\n",
    "    a = str1.find(char1,lt)\n",
    "    print(a)\n",
    "    lt = a+1"
   ]
  }
 ],
 "metadata": {
  "kernelspec": {
   "display_name": "Python 3",
   "language": "python",
   "name": "python3"
  },
  "language_info": {
   "codemirror_mode": {
    "name": "ipython",
    "version": 3
   },
   "file_extension": ".py",
   "mimetype": "text/x-python",
   "name": "python",
   "nbconvert_exporter": "python",
   "pygments_lexer": "ipython3",
   "version": "3.8.5"
  }
 },
 "nbformat": 4,
 "nbformat_minor": 5
}
