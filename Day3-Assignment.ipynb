{
 "cells": [
  {
   "cell_type": "code",
   "execution_count": null,
   "id": "female-worthy",
   "metadata": {
    "collapsed": true
   },
   "outputs": [],
   "source": [
    "#Solution for question1 - merge two files into a third file\n",
    "import os\n",
    "files = []\n",
    "filesnames = input(\"enter the filenames seperated by space\")\n",
    "files = filesnames.split()\n",
    "print(files)\n",
    "path = os.getcwd()\n",
    "with open('result_file.txt', 'w') as outfile:\n",
    "    for fname in files:\n",
    "        filepath = path + '/' + fname\n",
    "        with open(filepath) as infile:\n",
    "            outfile.write(infile.read())"
   ]
  },
  {
   "cell_type": "code",
   "execution_count": null,
   "id": "bored-future",
   "metadata": {},
   "outputs": [],
   "source": [
    "#Solution for question2 - Dictionary from two lists\n",
    "user_input = input(\"enter two lists seperated by ;\")\n",
    "[s1, s2] = user_input.split(';')\n",
    "s1 = list(s1.strip())\n",
    "s2 = list(s2.strip())\n",
    "result = {}\n",
    "for i in range(len(s1)):\n",
    "    result[s1[i]] = s2[i]\n",
    "print(result)"
   ]
  }
 ],
 "metadata": {
  "kernelspec": {
   "display_name": "Python 3",
   "language": "python",
   "name": "python3"
  },
  "language_info": {
   "codemirror_mode": {
    "name": "ipython",
    "version": 3
   },
   "file_extension": ".py",
   "mimetype": "text/x-python",
   "name": "python",
   "nbconvert_exporter": "python",
   "pygments_lexer": "ipython3",
   "version": "3.8.5"
  }
 },
 "nbformat": 4,
 "nbformat_minor": 5
}
