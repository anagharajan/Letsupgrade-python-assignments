{
 "cells": [
  {
   "cell_type": "code",
   "execution_count": 1,
   "id": "sustained-relevance",
   "metadata": {},
   "outputs": [
    {
     "name": "stdout",
     "output_type": "stream",
     "text": [
      "enter the number10\n",
      "10\n",
      "2\n",
      "3\n",
      "5\n",
      "7\n"
     ]
    }
   ],
   "source": [
    "#solution for question1\n",
    "num = int(input(\"enter the number\"))\n",
    "print(num)\n",
    "\n",
    "\n",
    "for elem in range(2,num+1):\n",
    "    if elem > 1:\n",
    "        for i in range(2,elem):\n",
    "            if (elem % i) == 0:\n",
    "                break\n",
    "        else:\n",
    "            print(elem)\n",
    "\n",
    "    else:\n",
    "        print(elem)"
   ]
  },
  {
   "cell_type": "code",
   "execution_count": 1,
   "id": "coordinated-ground",
   "metadata": {},
   "outputs": [
    {
     "name": "stdout",
     "output_type": "stream",
     "text": [
      "enter the number10\n",
      "10\n",
      "3628800\n"
     ]
    }
   ],
   "source": [
    "#solution for question2\n",
    "elem = int(input(\"enter the number\"))\n",
    "print(elem)\n",
    "fact = 1\n",
    "for i in range(1,elem+1):\n",
    "    fact = fact*i\n",
    "print(fact)\n"
   ]
  },
  {
   "cell_type": "code",
   "execution_count": 2,
   "id": "bright-sweden",
   "metadata": {},
   "outputs": [
    {
     "name": "stdout",
     "output_type": "stream",
     "text": [
      "enter the number5\n",
      "5\n",
      "15\n"
     ]
    }
   ],
   "source": [
    "#solution for question3\n",
    "elem = int(input(\"enter the number\"))\n",
    "print(elem)\n",
    "i = 0\n",
    "sum = 0\n",
    "while i <= elem:\n",
    "    sum += i\n",
    "    i +=1\n",
    "print(sum)"
   ]
  }
 ],
 "metadata": {
  "kernelspec": {
   "display_name": "Python 3",
   "language": "python",
   "name": "python3"
  },
  "language_info": {
   "codemirror_mode": {
    "name": "ipython",
    "version": 3
   },
   "file_extension": ".py",
   "mimetype": "text/x-python",
   "name": "python",
   "nbconvert_exporter": "python",
   "pygments_lexer": "ipython3",
   "version": "3.8.5"
  }
 },
 "nbformat": 4,
 "nbformat_minor": 5
}
